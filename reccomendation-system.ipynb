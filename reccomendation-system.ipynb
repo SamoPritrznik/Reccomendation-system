{
 "cells": [
  {
   "cell_type": "markdown",
   "id": "68f78e74",
   "metadata": {},
   "source": [
    "### Priporočilni sistem\n",
    "\n",
    "Seminarska naloga izdelave priporočilnega sistema.\n",
    "By Samo Pritržnik"
   ]
  },
  {
   "cell_type": "markdown",
   "id": "d09088df",
   "metadata": {},
   "source": [
    "## Podatki\n",
    "\n",
    "Za seminarsko nalogo bom uporabil movielens podatke. Opis podatkov je v readme.txt."
   ]
  },
  {
   "cell_type": "code",
   "execution_count": 32,
   "id": "90d5c6a5",
   "metadata": {},
   "outputs": [],
   "source": [
    "# import library for reading .dat files\n",
    "import numpy as np\n",
    "import matplotlib as mpl\n",
    "import pandas as pd\n",
    "from csv import DictReader\n",
    "import pickle as pkl\n",
    "import random\n",
    "from scipy.spatial.distance import cosine\n"
   ]
  },
  {
   "cell_type": "markdown",
   "id": "a36a113f",
   "metadata": {},
   "source": [
    "# Branje ocen"
   ]
  },
  {
   "cell_type": "code",
   "execution_count": 14,
   "id": "8fc49b63-e29a-4d38-a356-82731aedb146",
   "metadata": {},
   "outputs": [
    {
     "name": "stdout",
     "output_type": "stream",
     "text": [
      "855598\n",
      "73584\n"
     ]
    }
   ],
   "source": [
    "class UserItemData:\n",
    "    def __init__(self, path, from_date=None, to_date=None, min_ratings=None):\n",
    "        self.data = pd.read_csv(path, delimiter='\\t')\n",
    "        self.process_data(from_date, to_date, min_ratings)\n",
    "\n",
    "    def process_data(self, from_date, to_date, min_ratings):\n",
    "        # Convert date columns to a single datetime column\n",
    "        self.data['datetime'] = pd.to_datetime(self.data['date_year'].astype(str) + '-' +\n",
    "                                               self.data['date_month'].astype(str).str.zfill(2) + '-' +\n",
    "                                               self.data['date_day'].astype(str).str.zfill(2) + ' ' +\n",
    "                                               self.data['date_hour'].astype(str).str.zfill(2) + ':' +\n",
    "                                               self.data['date_minute'].astype(str).str.zfill(2) + ':' +\n",
    "                                               self.data['date_second'].astype(str).str.zfill(2))\n",
    "\n",
    "        # Filter by date range if specified\n",
    "        if from_date:\n",
    "            from_date = pd.to_datetime(from_date, dayfirst=True)\n",
    "            self.data = self.data[self.data['datetime'] >= from_date]\n",
    "        \n",
    "        if to_date:\n",
    "            to_date = pd.to_datetime(to_date, dayfirst=True)\n",
    "            self.data = self.data[self.data['datetime'] <= to_date]\n",
    "        \n",
    "        # Filter by minimum ratings for each movie if specified\n",
    "        if min_ratings:\n",
    "            movie_counts = self.data['movieID'].value_counts()\n",
    "            movies_with_min_ratings = movie_counts[movie_counts >= min_ratings].index\n",
    "            self.data = self.data[self.data['movieID'].isin(movies_with_min_ratings)]\n",
    "\n",
    "    def nratings(self):\n",
    "        return len(self.data)\n",
    "\n",
    "# Example usage\n",
    "uim = UserItemData('podatki/user_ratedmovies.dat')\n",
    "print(uim.nratings())\n",
    "\n",
    "uim = UserItemData('podatki/user_ratedmovies.dat', from_date='12.1.2007', to_date='16.2.2008', min_ratings=100)\n",
    "print(uim.nratings())"
   ]
  },
  {
   "cell_type": "markdown",
   "id": "280e4461",
   "metadata": {},
   "source": [
    "# Branje filmov"
   ]
  },
  {
   "cell_type": "code",
   "execution_count": 18,
   "id": "98e3afe3",
   "metadata": {},
   "outputs": [
    {
     "name": "stdout",
     "output_type": "stream",
     "text": [
      "Mr. Wonderful\n"
     ]
    }
   ],
   "source": [
    "class MovieData:\n",
    "    def __init__(self, path):\n",
    "        self.data = pd.read_csv(path, delimiter='\\t', encoding='latin1')\n",
    "\n",
    "    def get_title(self, movie_id):\n",
    "        return self.data[self.data['id'] == movie_id]['title'].values[0]\n",
    "    \n",
    "md = MovieData('podatki/movies.dat')\n",
    "print(md.get_title(499))\n",
    "        "
   ]
  },
  {
   "cell_type": "markdown",
   "id": "9c84acc1",
   "metadata": {},
   "source": [
    "## Prediktor\n",
    "\n",
    "Z besedo \"prediktor\" bomo označevali razrede, ki za določenega uporabnika na nek način ocenijo, s kakšno vrednostjo bi ta uporabnik ocenil filme oz. produkte, ki jih ima na voljo. Ti razredi bodo imeli metodo fit(self, X), kjer je X tipa UserItemData, in metodo predict(self, user_id), kjer je user_id ID uporabnika. Metodo fit bomo uporabljali za učenje modela, predict pa za izračun priporočenih vrednosti za podanega uporabnika."
   ]
  },
  {
   "cell_type": "markdown",
   "id": "f0e1a482",
   "metadata": {},
   "source": [
    "# Naključni prediktor"
   ]
  },
  {
   "cell_type": "code",
   "execution_count": 25,
   "id": "cd8ac1b0",
   "metadata": {},
   "outputs": [
    {
     "name": "stdout",
     "output_type": "stream",
     "text": [
      "<class 'dict'>\n",
      "Film: Toy story, ocena: 2.039608946218791\n",
      "Film: Grumpy Old Men, ocena: 1.1707559756861001\n",
      "Film: Money Train, ocena: 1.0012051750252389\n",
      "Film: The Usual Suspects, ocena: 4.199859417762402\n",
      "Film: City Hall, ocena: 3.9793208996496205\n"
     ]
    }
   ],
   "source": [
    "class RandomPredictor:\n",
    "    def __init__(self, min_rating, max_rating):\n",
    "        self.min_rating = min_rating\n",
    "        self.max_rating = max_rating\n",
    "\n",
    "    def fit(self, user_item_data):\n",
    "        # In this case, 'fitting' the model doesn't do anything\n",
    "        self.user_item_data = user_item_data\n",
    "        pass\n",
    "\n",
    "    def predict(self, user_id):\n",
    "        movie_ids = self.user_item_data.data['movieID'].unique()\n",
    "        return {movie_id: random.uniform(self.min_rating, self.max_rating) for movie_id in movie_ids}\n",
    "\n",
    "# Example usage\n",
    "md = MovieData('podatki/movies.dat')\n",
    "uim = UserItemData('podatki/user_ratedmovies.dat')\n",
    "rp = RandomPredictor(1, 5)\n",
    "rp.fit(uim)\n",
    "pred = rp.predict(78)\n",
    "print(type(pred))\n",
    "items = [1, 3, 20, 50, 100]\n",
    "for item in items:\n",
    "    print(\"Film: {}, ocena: {}\".format(md.get_title(item), pred[item]))"
   ]
  },
  {
   "cell_type": "markdown",
   "id": "5aacb35c",
   "metadata": {},
   "source": [
    "# Priporočanje"
   ]
  },
  {
   "cell_type": "code",
   "execution_count": 28,
   "id": "9ab1b41c",
   "metadata": {},
   "outputs": [
    {
     "name": "stdout",
     "output_type": "stream",
     "text": [
      "Film: Love Is All There Is, ocena: 4.999475612031708\n",
      "Film: Viskningar och rop, ocena: 4.998946622783171\n",
      "Film: At the Circus, ocena: 4.99758319544617\n",
      "Film: BubbaHo-Tep, ocena: 4.99717266543475\n",
      "Film: Seven Girlfriends, ocena: 4.996090193142638\n"
     ]
    }
   ],
   "source": [
    "class Recommender:\n",
    "    def __init__(self, predictor):\n",
    "        self.predictor = predictor\n",
    "\n",
    "    def fit(self, X):\n",
    "        self.X = X\n",
    "        self.predictor.fit(X)\n",
    "\n",
    "    def recommend(self, userID, n=10, rec_seen=True):\n",
    "        predictions = self.predictor.predict(userID)\n",
    "        if not rec_seen:\n",
    "            # Filter out movies the user has already rated\n",
    "            rated_movies = set(self.X.data[self.X.data['userID'] == userID]['movieID'])\n",
    "            predictions = {movie_id: rating for movie_id, rating in predictions.items() if movie_id not in rated_movies}\n",
    "\n",
    "        # Sort the predictions and return the top n\n",
    "        sorted_predictions = sorted(predictions.items(), key=lambda x: x[1], reverse=True)\n",
    "        return sorted_predictions[:n]\n",
    "\n",
    "# Example usage\n",
    "md = MovieData('podatki/movies.dat')\n",
    "uim = UserItemData('podatki/user_ratedmovies.dat')\n",
    "rp = RandomPredictor(1, 5)\n",
    "rec = Recommender(rp)\n",
    "rec.fit(uim)\n",
    "rec_items = rec.recommend(78, n=5, rec_seen=False)\n",
    "for idmovie, val in rec_items:\n",
    "    print(\"Film: {}, ocena: {}\".format(md.get_title(idmovie), val))"
   ]
  },
  {
   "cell_type": "markdown",
   "id": "dff3ef0c",
   "metadata": {},
   "source": [
    "# Napovedovanje s povprečjem"
   ]
  },
  {
   "cell_type": "code",
   "execution_count": 29,
   "id": "9f8b53cb",
   "metadata": {},
   "outputs": [
    {
     "name": "stdout",
     "output_type": "stream",
     "text": [
      "Film: Brother Minister: The Assassination of Malcolm X, ocena: 5.0\n",
      "Film: Synthetic Pleasures, ocena: 5.0\n",
      "Film: Adam & Steve, ocena: 5.0\n",
      "Film: Gabbeh, ocena: 5.0\n",
      "Film: Eve and the Fire Horse, ocena: 5.0\n",
      "Film: The Usual Suspects, ocena: 4.225944245560473\n",
      "Film: The Godfather: Part II, ocena: 4.146907937910189\n",
      "Film: Cidade de Deus, ocena: 4.116538340205236\n",
      "Film: The Dark Knight, ocena: 4.10413904093503\n",
      "Film: 12 Angry Men, ocena: 4.103639627096175\n"
     ]
    }
   ],
   "source": [
    "class AveragePredictor:\n",
    "    def __init__(self, b):\n",
    "        self.b = b\n",
    "        self.avg_ratings = {}\n",
    "\n",
    "    def fit(self, user_item_data):\n",
    "        # Calculate the global average rating\n",
    "        g_avg = user_item_data.data['rating'].mean()\n",
    "\n",
    "        # Calculate the average rating for each movie\n",
    "        for movie_id in user_item_data.data['movieID'].unique():\n",
    "            movie_data = user_item_data.data[user_item_data.data['movieID'] == movie_id]\n",
    "            vs = movie_data['rating'].sum()  # Sum of ratings for the movie\n",
    "            n = len(movie_data)  # Number of ratings for the movie\n",
    "\n",
    "            # Calculate the adjusted average\n",
    "            self.avg_ratings[movie_id] = (vs + self.b * g_avg) / (n + self.b)\n",
    "\n",
    "    def predict(self, user_id):\n",
    "        # Return the calculated average ratings\n",
    "        # This predictor ignores the user_id because it does not do personalized predictions\n",
    "        return self.avg_ratings\n",
    "\n",
    "# Example usage\n",
    "md = MovieData('podatki/movies.dat')\n",
    "uim = UserItemData('podatki/user_ratedmovies.dat')\n",
    "\n",
    "# Using AveragePredictor with b=0\n",
    "avg_pred = AveragePredictor(b=0)\n",
    "rec = Recommender(avg_pred)\n",
    "rec.fit(uim)\n",
    "rec_items = rec.recommend(78, n=5, rec_seen=False)\n",
    "for idmovie, val in rec_items:\n",
    "    print(\"Film: {}, ocena: {}\".format(md.get_title(idmovie), val))\n",
    "\n",
    "# Using AveragePredictor with b=100\n",
    "avg_pred_b100 = AveragePredictor(b=100)\n",
    "rec_b100 = Recommender(avg_pred_b100)\n",
    "rec_b100.fit(uim)\n",
    "rec_items_b100 = rec_b100.recommend(78, n=5, rec_seen=False)\n",
    "for idmovie, val in rec_items_b100:\n",
    "    print(\"Film: {}, ocena: {}\".format(md.get_title(idmovie), val))"
   ]
  },
  {
   "cell_type": "markdown",
   "id": "75b8520c",
   "metadata": {},
   "source": [
    "# Priporočanje najbolj gledanih filmov"
   ]
  },
  {
   "cell_type": "code",
   "execution_count": 30,
   "id": "e56a315a",
   "metadata": {},
   "outputs": [
    {
     "name": "stdout",
     "output_type": "stream",
     "text": [
      "Film: The Lord of the Rings: The Fellowship of the Ring, ocena: 1576\n",
      "Film: The Lord of the Rings: The Two Towers, ocena: 1528\n",
      "Film: The Lord of the Rings: The Return of the King, ocena: 1457\n",
      "Film: The Silence of the Lambs, ocena: 1431\n",
      "Film: Shrek, ocena: 1404\n"
     ]
    }
   ],
   "source": [
    "class ViewsPredictor:\n",
    "    def __init__(self):\n",
    "        self.views_count = {}\n",
    "\n",
    "    def fit(self, user_item_data):\n",
    "        # Count the number of views for each movie\n",
    "        self.views_count = user_item_data.data['movieID'].value_counts().to_dict()\n",
    "\n",
    "    def predict(self, user_id):\n",
    "        # Return the views count for each movie\n",
    "        # This predictor ignores the user_id because it does not do personalized predictions\n",
    "        return self.views_count\n",
    "\n",
    "# Example usage\n",
    "md = MovieData('podatki/movies.dat')\n",
    "uim = UserItemData('podatki/user_ratedmovies.dat')\n",
    "\n",
    "views_pred = ViewsPredictor()\n",
    "rec = Recommender(views_pred)\n",
    "rec.fit(uim)\n",
    "rec_items = rec.recommend(78, n=5, rec_seen=False)\n",
    "for idmovie, val in rec_items:\n",
    "    print(\"Film: {}, ocena: {}\".format(md.get_title(idmovie), val))"
   ]
  },
  {
   "cell_type": "markdown",
   "id": "d153457e",
   "metadata": {},
   "source": [
    "# Napovedovanje ocen s podobnostjo med produkti"
   ]
  },
  {
   "cell_type": "code",
   "execution_count": 35,
   "id": "ad638771",
   "metadata": {},
   "outputs": [
    {
     "name": "stdout",
     "output_type": "stream",
     "text": [
      "Podobnost med filmoma 'Men in black'(1580) in 'Ghostbusters'(2716):  0.4547352985965746\n",
      "Podobnost med filmoma 'Men in black'(1580) in 'Schindler's List'(527):  0\n",
      "Podobnost med filmoma 'Men in black'(1580) in 'Independence day'(780):  0.5481157140454866\n",
      "Predictions for 78: \n"
     ]
    }
   ],
   "source": [
    "class ItemBasedPredictor:\n",
    "    def __init__(self, min_values=0, threshold=0):\n",
    "        self.min_values = min_values\n",
    "        self.threshold = threshold\n",
    "        self.similarities = {}\n",
    "\n",
    "    def fit(self, user_item_data):\n",
    "        # Pivot table to create a matrix of users and movie ratings\n",
    "        matrix = user_item_data.data.pivot_table(index='userID', columns='movieID', values='rating')\n",
    "        \n",
    "        # Calculate the global mean for normalization\n",
    "        global_mean = user_item_data.data['rating'].mean()\n",
    "\n",
    "        # Initialize dictionary for each movie\n",
    "        movies = matrix.columns\n",
    "        for movie in movies:\n",
    "            self.similarities[movie] = {}\n",
    "\n",
    "        # Calculate similarities for each pair of movies\n",
    "        for i in range(len(movies)):\n",
    "            for j in range(i+1, len(movies)):\n",
    "                movie1 = matrix[movies[i]]\n",
    "                movie2 = matrix[movies[j]]\n",
    "                common = matrix.loc[:, [movies[i], movies[j]]].dropna()\n",
    "\n",
    "                # Check for minimum number of common users\n",
    "                if len(common) < self.min_values:\n",
    "                    continue\n",
    "\n",
    "                # Adjust ratings by subtracting the global mean\n",
    "                adjusted_ratings1 = common[movies[i]] - global_mean\n",
    "                adjusted_ratings2 = common[movies[j]] - global_mean\n",
    "\n",
    "                # Compute similarity\n",
    "                similarity = 1 - cosine(adjusted_ratings1, adjusted_ratings2)\n",
    "\n",
    "                # Apply threshold\n",
    "                if similarity < self.threshold:\n",
    "                    similarity = 0\n",
    "\n",
    "                self.similarities[movies[i]][movies[j]] = similarity\n",
    "                self.similarities[movies[j]][movies[i]] = similarity  # Symmetric\n",
    "\n",
    "    def similarity(self, p1, p2):\n",
    "        # Return the calculated similarity\n",
    "        return self.similarities.get(p1, {}).get(p2, 0)\n",
    "\n",
    "    def predict(self, user_id):\n",
    "        # Predict ratings for the user\n",
    "        # Implementation depends on how you want to aggregate the similarities and existing ratings\n",
    "        # This is a placeholder for the prediction logic\n",
    "        return {}\n",
    "\n",
    "# Example usage\n",
    "md = MovieData('podatki/movies.dat')\n",
    "uim = UserItemData('podatki/user_ratedmovies.dat', min_ratings=1000)\n",
    "rp = ItemBasedPredictor()\n",
    "rec = Recommender(rp)\n",
    "rec.fit(uim)\n",
    "\n",
    "print(\"Podobnost med filmoma 'Men in black'(1580) in 'Ghostbusters'(2716): \", rp.similarity(1580, 2716))\n",
    "print(\"Podobnost med filmoma 'Men in black'(1580) in 'Schindler's List'(527): \", rp.similarity(1580, 527))\n",
    "print(\"Podobnost med filmoma 'Men in black'(1580) in 'Independence day'(780): \", rp.similarity(1580, 780))\n",
    "\n",
    "print(\"Predictions for 78: \")\n",
    "rec_items = rec.recommend(78, n=15, rec_seen=False)\n",
    "for idmovie, val in rec_items:\n",
    "    print(\"Film: {}, ocena: {}\".format(md.get_title(idmovie), val))"
   ]
  }
 ],
 "metadata": {
  "kernelspec": {
   "display_name": "Python 3 (ipykernel)",
   "language": "python",
   "name": "python3"
  },
  "language_info": {
   "codemirror_mode": {
    "name": "ipython",
    "version": 3
   },
   "file_extension": ".py",
   "mimetype": "text/x-python",
   "name": "python",
   "nbconvert_exporter": "python",
   "pygments_lexer": "ipython3",
   "version": "3.12.1"
  }
 },
 "nbformat": 4,
 "nbformat_minor": 5
}
