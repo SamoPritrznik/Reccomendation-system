{
 "cells": [
  {
   "cell_type": "markdown",
   "id": "68f78e74",
   "metadata": {},
   "source": [
    "# Priporočilni sistem\n",
    "\n",
    "Seminarska naloga izdelave priporočilnega sistema.\n",
    "By Samo Pritržnik"
   ]
  },
  {
   "cell_type": "markdown",
   "id": "d09088df",
   "metadata": {},
   "source": [
    "## Podatki\n",
    "\n",
    "Za seminarsko nalogo bom uporabil movielens podatke. Opis podatkov je v readme.txt."
   ]
  },
  {
   "cell_type": "code",
   "execution_count": 2,
   "id": "90d5c6a5",
   "metadata": {},
   "outputs": [],
   "source": [
    "# import library for reading .dat files\n",
    "import numpy as np\n",
    "import matplotlib as mpl\n",
    "import pandas as pd\n",
    "from csv import DictReader\n",
    "import pickle as pkl\n",
    "import random\n",
    "from scipy.spatial.distance import cosine\n"
   ]
  },
  {
   "cell_type": "markdown",
   "id": "a36a113f",
   "metadata": {},
   "source": [
    "### Branje ocen"
   ]
  },
  {
   "cell_type": "code",
   "execution_count": 6,
   "id": "8fc49b63-e29a-4d38-a356-82731aedb146",
   "metadata": {},
   "outputs": [
    {
     "name": "stdout",
     "output_type": "stream",
     "text": [
      "855598\n",
      "73584\n"
     ]
    }
   ],
   "source": [
    "class UserItemData:\n",
    "    def __init__(self, path, from_date=None, to_date=None, min_ratings=None):\n",
    "        self.data = pd.read_csv(path, delimiter='\\t')\n",
    "        self.process_data(from_date, to_date, min_ratings)\n",
    "\n",
    "    def process_data(self, from_date, to_date, min_ratings):\n",
    "        # Convert date columns to a single datetime column\n",
    "        self.data['datetime'] = pd.to_datetime(self.data['date_year'].astype(str) + '-' +\n",
    "                                               self.data['date_month'].astype(str).str.zfill(2) + '-' +\n",
    "                                               self.data['date_day'].astype(str).str.zfill(2) + ' ' +\n",
    "                                               self.data['date_hour'].astype(str).str.zfill(2) + ':' +\n",
    "                                               self.data['date_minute'].astype(str).str.zfill(2) + ':' +\n",
    "                                               self.data['date_second'].astype(str).str.zfill(2))\n",
    "\n",
    "        # Filter by date range if specified\n",
    "        if from_date:\n",
    "            from_date = pd.to_datetime(from_date, dayfirst=True)\n",
    "            self.data = self.data[self.data['datetime'] >= from_date]\n",
    "        \n",
    "        if to_date:\n",
    "            to_date = pd.to_datetime(to_date, dayfirst=True)\n",
    "            self.data = self.data[self.data['datetime'] <= to_date]\n",
    "        \n",
    "        # Filter by minimum ratings for each movie if specified\n",
    "        if min_ratings:\n",
    "            movie_counts = self.data['movieID'].value_counts()\n",
    "            movies_with_min_ratings = movie_counts[movie_counts >= min_ratings].index\n",
    "            self.data = self.data[self.data['movieID'].isin(movies_with_min_ratings)]\n",
    "\n",
    "    def nratings(self):\n",
    "        return len(self.data)\n",
    "\n",
    "uim = UserItemData('podatki/user_ratedmovies.dat')\n",
    "print(uim.nratings())\n",
    "\n",
    "uim = UserItemData('podatki/user_ratedmovies.dat', from_date='12.1.2007', to_date='16.2.2008', min_ratings=100)\n",
    "print(uim.nratings())"
   ]
  },
  {
   "cell_type": "markdown",
   "id": "280e4461",
   "metadata": {},
   "source": [
    "### Branje filmov"
   ]
  },
  {
   "cell_type": "code",
   "execution_count": 4,
   "id": "98e3afe3",
   "metadata": {},
   "outputs": [
    {
     "name": "stdout",
     "output_type": "stream",
     "text": [
      "Mr. Wonderful\n"
     ]
    }
   ],
   "source": [
    "class MovieData:\n",
    "    def __init__(self, path):\n",
    "        self.data = pd.read_csv(path, delimiter='\\t', encoding='latin1')\n",
    "\n",
    "    def get_title(self, movie_id):\n",
    "        return self.data[self.data['id'] == movie_id]['title'].values[0]\n",
    "    \n",
    "md = MovieData('podatki/movies.dat')\n",
    "print(md.get_title(499))\n",
    "        "
   ]
  },
  {
   "cell_type": "markdown",
   "id": "9c84acc1",
   "metadata": {},
   "source": [
    "## Prediktor\n",
    "\n",
    "Z besedo \"prediktor\" bomo označevali razrede, ki za določenega uporabnika na nek način ocenijo, s kakšno vrednostjo bi ta uporabnik ocenil filme oz. produkte, ki jih ima na voljo. Ti razredi bodo imeli metodo fit(self, X), kjer je X tipa UserItemData, in metodo predict(self, user_id), kjer je user_id ID uporabnika. Metodo fit bomo uporabljali za učenje modela, predict pa za izračun priporočenih vrednosti za podanega uporabnika."
   ]
  },
  {
   "cell_type": "markdown",
   "id": "f0e1a482",
   "metadata": {},
   "source": [
    "### Naključni prediktor"
   ]
  },
  {
   "cell_type": "code",
   "execution_count": 14,
   "id": "cd8ac1b0",
   "metadata": {},
   "outputs": [
    {
     "name": "stdout",
     "output_type": "stream",
     "text": [
      "<class 'dict'>\n",
      "Film: Toy story, ocena: 3\n",
      "Film: Grumpy Old Men, ocena: 3\n",
      "Film: Money Train, ocena: 3\n",
      "Film: The Usual Suspects, ocena: 3\n",
      "Film: City Hall, ocena: 5\n"
     ]
    }
   ],
   "source": [
    "class RandomPredictor:\n",
    "    def __init__(self, min_rating, max_rating):\n",
    "        self.min_rating = min_rating\n",
    "        self.max_rating = max_rating\n",
    "\n",
    "    def fit(self, user_item_data):\n",
    "        self.user_item_data = user_item_data\n",
    "\n",
    "    def predict(self, user_id):\n",
    "        movie_ids = self.user_item_data.data['movieID'].unique()\n",
    "        return {movie_id: round(random.uniform(self.min_rating, self.max_rating)) for movie_id in movie_ids}\n",
    "\n",
    "# Example usage\n",
    "md = MovieData('podatki/movies.dat')\n",
    "uim = UserItemData('podatki/user_ratedmovies.dat')\n",
    "rp = RandomPredictor(1, 5)\n",
    "rp.fit(uim)\n",
    "pred = rp.predict(78)\n",
    "print(type(pred))\n",
    "items = [1, 3, 20, 50, 100]\n",
    "for item in items:\n",
    "    print(\"Film: {}, ocena: {}\".format(md.get_title(item), pred[item]))"
   ]
  },
  {
   "cell_type": "markdown",
   "id": "5aacb35c",
   "metadata": {},
   "source": [
    "### Priporočanje"
   ]
  },
  {
   "cell_type": "code",
   "execution_count": 17,
   "id": "9ab1b41c",
   "metadata": {},
   "outputs": [
    {
     "name": "stdout",
     "output_type": "stream",
     "text": [
      "Film: Congo, ocena: 5\n",
      "Film: Beverly Hills Cop III, ocena: 5\n",
      "Film: The Abyss, ocena: 5\n",
      "Film: Tears of the Sun, ocena: 5\n",
      "Film: King of Kings, ocena: 5\n",
      "Film: Hudson Hawk, ocena: 5\n",
      "Film: The Haunted Mansion, ocena: 5\n",
      "Film: 50 First Dates, ocena: 5\n",
      "Film: 13 Going on 30, ocena: 5\n",
      "Film: Fat Albert, ocena: 5\n"
     ]
    }
   ],
   "source": [
    "class Recommender:\n",
    "    def __init__(self, predictor):\n",
    "        self.predictor = predictor\n",
    "\n",
    "    def fit(self, X):\n",
    "        self.X = X\n",
    "        self.predictor.fit(X)\n",
    "\n",
    "    def recommend(self, userID, n=10, rec_seen=True):\n",
    "        predictions = self.predictor.predict(userID)\n",
    "        if not rec_seen:\n",
    "            # Filter out movies the user has already rated\n",
    "            rated_movies = set(self.X.data[self.X.data['userID'] == userID]['movieID'])\n",
    "            predictions = {movie_id: rating for movie_id, rating in predictions.items() if movie_id not in rated_movies}\n",
    "\n",
    "        # Sort the predictions and return the top n\n",
    "        sorted_predictions = sorted(predictions.items(), key=lambda x: x[1], reverse=True)\n",
    "        return sorted_predictions[:n]\n",
    "\n",
    "# Example usage\n",
    "md = MovieData('podatki/movies.dat')\n",
    "uim = UserItemData('podatki/user_ratedmovies.dat')\n",
    "rp = RandomPredictor(1, 5)\n",
    "rec = Recommender(rp)\n",
    "rec.fit(uim)\n",
    "rec_items = rec.recommend(78, n=10, rec_seen=False)\n",
    "for idmovie, val in rec_items:\n",
    "    print(\"Film: {}, ocena: {}\".format(md.get_title(idmovie), val))"
   ]
  },
  {
   "cell_type": "markdown",
   "id": "dff3ef0c",
   "metadata": {},
   "source": [
    "### Napovedovanje s povprečjem"
   ]
  },
  {
   "cell_type": "code",
   "execution_count": 18,
   "id": "9f8b53cb",
   "metadata": {},
   "outputs": [
    {
     "name": "stdout",
     "output_type": "stream",
     "text": [
      "Film: Brother Minister: The Assassination of Malcolm X, ocena: 5.0\n",
      "Film: Synthetic Pleasures, ocena: 5.0\n",
      "Film: Adam & Steve, ocena: 5.0\n",
      "Film: Gabbeh, ocena: 5.0\n",
      "Film: Eve and the Fire Horse, ocena: 5.0\n",
      "Film: The Usual Suspects, ocena: 4.225944245560473\n",
      "Film: The Godfather: Part II, ocena: 4.146907937910189\n",
      "Film: Cidade de Deus, ocena: 4.116538340205236\n",
      "Film: The Dark Knight, ocena: 4.10413904093503\n",
      "Film: 12 Angry Men, ocena: 4.103639627096175\n"
     ]
    }
   ],
   "source": [
    "class AveragePredictor:\n",
    "    def __init__(self, b):\n",
    "        self.b = b\n",
    "        self.avg_ratings = {}\n",
    "\n",
    "    def fit(self, user_item_data):\n",
    "        # Calculate the global average rating\n",
    "        g_avg = user_item_data.data['rating'].mean()\n",
    "\n",
    "        # Calculate the average rating for each movie\n",
    "        for movie_id in user_item_data.data['movieID'].unique():\n",
    "            movie_data = user_item_data.data[user_item_data.data['movieID'] == movie_id]\n",
    "            vs = movie_data['rating'].sum()  # Sum of ratings for the movie\n",
    "            n = len(movie_data)  # Number of ratings for the movie\n",
    "\n",
    "            # Calculate the adjusted average\n",
    "            self.avg_ratings[movie_id] = (vs + self.b * g_avg) / (n + self.b)\n",
    "\n",
    "    def predict(self, user_id):\n",
    "        # Return the calculated average ratings\n",
    "        # This predictor ignores the user_id because it does not do personalized predictions\n",
    "        return self.avg_ratings\n",
    "\n",
    "# Example usage\n",
    "md = MovieData('podatki/movies.dat')\n",
    "uim = UserItemData('podatki/user_ratedmovies.dat')\n",
    "\n",
    "# Using AveragePredictor with b=0\n",
    "avg_pred = AveragePredictor(b=0)\n",
    "rec = Recommender(avg_pred)\n",
    "rec.fit(uim)\n",
    "rec_items = rec.recommend(78, n=5, rec_seen=False)\n",
    "for idmovie, val in rec_items:\n",
    "    print(\"Film: {}, ocena: {}\".format(md.get_title(idmovie), val))\n",
    "\n",
    "# Using AveragePredictor with b=100\n",
    "avg_pred_b100 = AveragePredictor(b=100)\n",
    "rec_b100 = Recommender(avg_pred_b100)\n",
    "rec_b100.fit(uim)\n",
    "rec_items_b100 = rec_b100.recommend(78, n=5, rec_seen=False)\n",
    "for idmovie, val in rec_items_b100:\n",
    "    print(\"Film: {}, ocena: {}\".format(md.get_title(idmovie), val))"
   ]
  },
  {
   "cell_type": "markdown",
   "id": "75b8520c",
   "metadata": {},
   "source": [
    "### Priporočanje najbolj gledanih filmov"
   ]
  },
  {
   "cell_type": "code",
   "execution_count": 30,
   "id": "e56a315a",
   "metadata": {},
   "outputs": [
    {
     "name": "stdout",
     "output_type": "stream",
     "text": [
      "Film: The Lord of the Rings: The Fellowship of the Ring, ocena: 1576\n",
      "Film: The Lord of the Rings: The Two Towers, ocena: 1528\n",
      "Film: The Lord of the Rings: The Return of the King, ocena: 1457\n",
      "Film: The Silence of the Lambs, ocena: 1431\n",
      "Film: Shrek, ocena: 1404\n"
     ]
    }
   ],
   "source": [
    "class ViewsPredictor:\n",
    "    def __init__(self):\n",
    "        self.views_count = {}\n",
    "\n",
    "    def fit(self, user_item_data):\n",
    "        # Count the number of views for each movie\n",
    "        self.views_count = user_item_data.data['movieID'].value_counts().to_dict()\n",
    "\n",
    "    def predict(self, user_id):\n",
    "        # Return the views count for each movie\n",
    "        # This predictor ignores the user_id because it does not do personalized predictions\n",
    "        return self.views_count\n",
    "\n",
    "# Example usage\n",
    "md = MovieData('podatki/movies.dat')\n",
    "uim = UserItemData('podatki/user_ratedmovies.dat')\n",
    "\n",
    "views_pred = ViewsPredictor()\n",
    "rec = Recommender(views_pred)\n",
    "rec.fit(uim)\n",
    "rec_items = rec.recommend(78, n=5, rec_seen=False)\n",
    "for idmovie, val in rec_items:\n",
    "    print(\"Film: {}, ocena: {}\".format(md.get_title(idmovie), val))"
   ]
  },
  {
   "cell_type": "markdown",
   "id": "d153457e",
   "metadata": {},
   "source": [
    "## Napovedovanje ocen s podobnostjo med produkti"
   ]
  },
  {
   "cell_type": "code",
   "execution_count": 21,
   "id": "ad638771",
   "metadata": {},
   "outputs": [
    {
     "name": "stdout",
     "output_type": "stream",
     "text": [
      "Podobnost med filmoma 'Men in black'(1580) in 'Ghostbusters'(2716):  0.4547352985965746\n",
      "Podobnost med filmoma 'Men in black'(1580) in 'Schindler's List'(527):  0\n",
      "Podobnost med filmoma 'Men in black'(1580) in 'Independence day'(780):  0.5481157140454866\n",
      "Predictions for 78: \n",
      "Film: The Usual Suspects, ocena: 4.228043285847402\n",
      "Film: Shichinin no samurai, ocena: 4.177395447109325\n",
      "Film: The Silence of the Lambs, ocena: 4.135398935441527\n",
      "Film: Sin City, ocena: 4.106810339647614\n",
      "Film: The Lord of the Rings: The Fellowship of the Ring, ocena: 4.043119228683461\n",
      "Film: The Incredibles, ocena: 4.029512949977216\n",
      "Film: The Lord of the Rings: The Return of the King, ocena: 3.9912446413928375\n",
      "Film: Batman Begins, ocena: 3.975295132734058\n",
      "Film: Good Will Hunting, ocena: 3.958036740972706\n",
      "Film: The Lord of the Rings: The Two Towers, ocena: 3.9466268423676336\n",
      "Film: A Beautiful Mind, ocena: 3.9371294773749\n",
      "Film: Rain Man, ocena: 3.933872547332966\n",
      "Film: Die Hard, ocena: 3.925370224555466\n",
      "Film: Indiana Jones and the Last Crusade, ocena: 3.924049002257546\n",
      "Film: Monsters, Inc., ocena: 3.916074579374216\n"
     ]
    }
   ],
   "source": [
    "class ItemBasedPredictor:\n",
    "    def __init__(self, min_values=0, threshold=0):\n",
    "        self.min_values = min_values\n",
    "        self.threshold = threshold\n",
    "        self.similarities = {}\n",
    "        self.user_item_data = None  # Add this line to initialize the user-item data attribute\n",
    "\n",
    "\n",
    "    def fit(self, user_item_data):\n",
    "        self.user_item_data = user_item_data  # Store the user-item data\n",
    "\n",
    "        # Pivot table to create a matrix of users and movie ratings\n",
    "        matrix = user_item_data.data.pivot_table(index='userID', columns='movieID', values='rating')\n",
    "        \n",
    "        # Calculate the global mean for normalization\n",
    "        global_mean = user_item_data.data['rating'].mean()\n",
    "\n",
    "        # Initialize dictionary for each movie\n",
    "        movies = matrix.columns\n",
    "        for movie in movies:\n",
    "            self.similarities[movie] = {}\n",
    "\n",
    "        # Calculate similarities for each pair of movies\n",
    "        for i in range(len(movies)):\n",
    "            for j in range(i+1, len(movies)):\n",
    "                movie1_id = movies[i]\n",
    "                movie2_id = movies[j]\n",
    "\n",
    "                # Get the ratings for the two movies\n",
    "                ratings1 = matrix[movie1_id]\n",
    "                ratings2 = matrix[movie2_id]\n",
    "\n",
    "                # Find common user ratings\n",
    "                common = matrix.loc[:, [movie1_id, movie2_id]].dropna()\n",
    "\n",
    "                # Check for minimum number of common users\n",
    "                if len(common) < self.min_values:\n",
    "                    continue\n",
    "\n",
    "                # Adjust ratings by subtracting the global mean\n",
    "                adjusted_ratings1 = common[movie1_id] - global_mean\n",
    "                adjusted_ratings2 = common[movie2_id] - global_mean\n",
    "\n",
    "                # Compute similarity\n",
    "                similarity = 1 - cosine(adjusted_ratings1, adjusted_ratings2)\n",
    "\n",
    "                # Apply threshold\n",
    "                if similarity < self.threshold:\n",
    "                    similarity = 0\n",
    "\n",
    "                self.similarities[movie1_id][movie2_id] = similarity\n",
    "                self.similarities[movie2_id][movie1_id] = similarity  # Symmetric\n",
    "\n",
    "    def similarity(self, p1, p2):\n",
    "        # Return the calculated similarity\n",
    "        return self.similarities.get(p1, {}).get(p2, 0)\n",
    "\n",
    "    def predict(self, user_id):\n",
    "        user_ratings = self.user_item_data.data[self.user_item_data.data['userID'] == user_id]\n",
    "\n",
    "        # Initialize a dictionary to store the predicted ratings\n",
    "        predictions = {}\n",
    "\n",
    "        # Iterate over all movies in the dataset\n",
    "        for movie in self.similarities.keys():\n",
    "            # Initialize the sum of similarities and weighted ratings\n",
    "            sim_sum = 0\n",
    "            weighted_ratings_sum = 0\n",
    "\n",
    "            # Iterate over movies the user has rated\n",
    "            for rated_movie, row in user_ratings.iterrows():\n",
    "                rated_movie_id = row['movieID']\n",
    "                rated_movie_rating = row['rating']\n",
    "\n",
    "                # Check if similarity exists between the rated movie and the current movie\n",
    "                if rated_movie_id in self.similarities[movie]:\n",
    "                    similarity = self.similarities[movie][rated_movie_id]\n",
    "                    sim_sum += similarity\n",
    "                    weighted_ratings_sum += similarity * rated_movie_rating\n",
    "\n",
    "            # Calculate the predicted rating\n",
    "            if sim_sum > 0:\n",
    "                predicted_rating = weighted_ratings_sum / sim_sum\n",
    "                predictions[movie] = predicted_rating\n",
    "            else:\n",
    "                predictions[movie] = 0  # Default prediction when no similar movies are found\n",
    "\n",
    "        return predictions\n",
    "\n",
    "\n",
    "# Example usage\n",
    "md = MovieData('podatki/movies.dat')\n",
    "uim = UserItemData('podatki/user_ratedmovies.dat', min_ratings=1000)\n",
    "rp = ItemBasedPredictor()\n",
    "rec = Recommender(rp)\n",
    "rec.fit(uim)\n",
    "\n",
    "print(\"Podobnost med filmoma 'Men in black'(1580) in 'Ghostbusters'(2716): \", rp.similarity(1580, 2716))\n",
    "print(\"Podobnost med filmoma 'Men in black'(1580) in 'Schindler's List'(527): \", rp.similarity(1580, 527))\n",
    "print(\"Podobnost med filmoma 'Men in black'(1580) in 'Independence day'(780): \", rp.similarity(1580, 780))\n",
    "\n",
    "print(\"Predictions for 78: \")\n",
    "rec_items = rec.recommend(78, n=15, rec_seen=False)\n",
    "for idmovie, val in rec_items:\n",
    "    print(\"Film: {}, ocena: {}\".format(md.get_title(idmovie), val))"
   ]
  },
  {
   "cell_type": "markdown",
   "id": "c492447a",
   "metadata": {},
   "source": [
    "### Najbolj podobni filmi"
   ]
  },
  {
   "cell_type": "code",
   "execution_count": 22,
   "id": "8cbdba6c",
   "metadata": {},
   "outputs": [
    {
     "name": "stdout",
     "output_type": "stream",
     "text": [
      "Film1: The Lord of the Rings: The Two Towers, Film2: The Lord of the Rings: The Return of the King, podobnost: 0.8844354394609556\n",
      "Film1: The Lord of the Rings: The Fellowship of the Ring, Film2: The Lord of the Rings: The Two Towers, podobnost: 0.866171197727726\n",
      "Film1: The Lord of the Rings: The Fellowship of the Ring, Film2: The Lord of the Rings: The Return of the King, podobnost: 0.8560599049871471\n",
      "Film1: Kill Bill: Vol. 2, Film2: Kill Bill: Vol. 2, podobnost: 0.7996686702947231\n",
      "Film1: Star Wars, Film2: Star Wars: Episode V - The Empire Strikes Back, podobnost: 0.7809640630519074\n",
      "Film1: Star Wars: Episode V - The Empire Strikes Back, Film2: Star Wars: Episode VI - Return of the Jedi, podobnost: 0.7195582469322426\n",
      "Film1: Ace Ventura: Pet Detective, Film2: The Mask, podobnost: 0.7150004096605594\n",
      "Film1: Star Wars, Film2: Star Wars: Episode VI - Return of the Jedi, podobnost: 0.6900018201651158\n",
      "Film1: Speed, Film2: Pretty Woman, podobnost: 0.6369561144208051\n",
      "Film1: The Mask, Film2: Mrs. Doubtfire, podobnost: 0.6343116405848669\n",
      "Film1: Speed, Film2: Independence Day, podobnost: 0.6286869739960961\n",
      "Film1: Raiders of the Lost Ark, Film2: Indiana Jones and the Last Crusade, podobnost: 0.6257313867105695\n",
      "Film1: Ace Ventura: Pet Detective, Film2: Austin Powers: The Spy Who Shagged Me, podobnost: 0.6256597062632877\n",
      "Film1: Mrs. Doubtfire, Film2: Pretty Woman, podobnost: 0.6250404829472335\n",
      "Film1: Independence Day, Film2: Star Wars: Episode I - The Phantom Menace, podobnost: 0.6214743795348722\n",
      "Film1: The Mask, Film2: Speed, podobnost: 0.6155424512906713\n",
      "Film1: Pretty Woman, Film2: Independence Day, podobnost: 0.6136484564520102\n",
      "Film1: Star Wars: Episode I - The Phantom Menace, Film2: The Matrix Reloaded, podobnost: 0.6062430047648841\n",
      "Film1: Mrs. Doubtfire, Film2: Independence Day, podobnost: 0.6060219672049356\n",
      "Film1: Jurassic Park, Film2: Independence Day, podobnost: 0.6058417099569704\n"
     ]
    }
   ],
   "source": [
    "def print_top_similar_pairs(predictor, movie_data, top_n=20):\n",
    "    # Flatten the similarity matrix into a list of tuples (movie1, movie2, similarity)\n",
    "    similarity_list = []\n",
    "    for movie1 in predictor.similarities:\n",
    "        for movie2, similarity in predictor.similarities[movie1].items():\n",
    "            if movie1 < movie2:  # Ensure each pair is only counted once\n",
    "                similarity_list.append((movie1, movie2, similarity))\n",
    "\n",
    "    # Sort the list by similarity in descending order\n",
    "    sorted_similarities = sorted(similarity_list, key=lambda x: x[2], reverse=True)\n",
    "\n",
    "    # Print the top N pairs\n",
    "    for movie_pair in sorted_similarities[:top_n]:\n",
    "        movie1_title = movie_data.get_title(movie_pair[0])\n",
    "        movie2_title = movie_data.get_title(movie_pair[1])\n",
    "        print(f\"Film1: {movie1_title}, Film2: {movie2_title}, podobnost: {movie_pair[2]}\")\n",
    "\n",
    "# Example usage\n",
    "# Assuming md is an instance of MovieData and rp is an instance of ItemBasedPredictor\n",
    "print_top_similar_pairs(rp, md, top_n=20)"
   ]
  },
  {
   "cell_type": "markdown",
   "id": "db55ef3c",
   "metadata": {},
   "source": [
    "## Priporočanje glede na trenutno ogledano vsebino"
   ]
  },
  {
   "cell_type": "code",
   "execution_count": 26,
   "id": "277a7f11",
   "metadata": {},
   "outputs": [
    {
     "name": "stdout",
     "output_type": "stream",
     "text": [
      "Filmi podobni \"The Lord of the Rings: The Fellowship of the Ring\":\n",
      "Film: The Lord of the Rings: The Two Towers, ocena: 0.866171197727726\n",
      "Film: The Lord of the Rings: The Return of the King, ocena: 0.8560599049871471\n",
      "Film: Star Wars: Episode V - The Empire Strikes Back, ocena: 0.419423520538885\n",
      "Film: Star Wars, ocena: 0.40500493964569284\n",
      "Film: The Matrix, ocena: 0.39793497278477485\n",
      "Film: Raiders of the Lost Ark, ocena: 0.38860539594709076\n",
      "Film: Star Wars: Episode VI - Return of the Jedi, ocena: 0.3550792764455102\n",
      "Film: Schindler's List, ocena: 0.3383137916061756\n",
      "Film: The Usual Suspects, ocena: 0.3353498207221435\n",
      "Film: Indiana Jones and the Last Crusade, ocena: 0.31770306842834906\n"
     ]
    }
   ],
   "source": [
    "class ItemBasedPredictor:\n",
    "    def __init__(self, min_values=0, threshold=0):\n",
    "        self.min_values = min_values\n",
    "        self.threshold = threshold\n",
    "        self.similarities = {}\n",
    "        self.user_item_data = None  # Add this line to initialize the user-item data attribute\n",
    "\n",
    "\n",
    "    def fit(self, user_item_data):\n",
    "        self.user_item_data = user_item_data  # Store the user-item data\n",
    "\n",
    "        # Pivot table to create a matrix of users and movie ratings\n",
    "        matrix = user_item_data.data.pivot_table(index='userID', columns='movieID', values='rating')\n",
    "        \n",
    "        # Calculate the global mean for normalization\n",
    "        global_mean = user_item_data.data['rating'].mean()\n",
    "\n",
    "        # Initialize dictionary for each movie\n",
    "        movies = matrix.columns\n",
    "        for movie in movies:\n",
    "            self.similarities[movie] = {}\n",
    "\n",
    "        # Calculate similarities for each pair of movies\n",
    "        for i in range(len(movies)):\n",
    "            for j in range(i+1, len(movies)):\n",
    "                movie1_id = movies[i]\n",
    "                movie2_id = movies[j]\n",
    "\n",
    "                # Get the ratings for the two movies\n",
    "                ratings1 = matrix[movie1_id]\n",
    "                ratings2 = matrix[movie2_id]\n",
    "\n",
    "                # Find common user ratings\n",
    "                common = matrix.loc[:, [movie1_id, movie2_id]].dropna()\n",
    "\n",
    "                # Check for minimum number of common users\n",
    "                if len(common) < self.min_values:\n",
    "                    continue\n",
    "\n",
    "                # Adjust ratings by subtracting the global mean\n",
    "                adjusted_ratings1 = common[movie1_id] - global_mean\n",
    "                adjusted_ratings2 = common[movie2_id] - global_mean\n",
    "\n",
    "                # Compute similarity\n",
    "                similarity = 1 - cosine(adjusted_ratings1, adjusted_ratings2)\n",
    "\n",
    "                # Apply threshold\n",
    "                if similarity < self.threshold:\n",
    "                    similarity = 0\n",
    "\n",
    "                self.similarities[movie1_id][movie2_id] = similarity\n",
    "                self.similarities[movie2_id][movie1_id] = similarity  # Symmetric\n",
    "\n",
    "    def similarity(self, p1, p2):\n",
    "        # Return the calculated similarity\n",
    "        return self.similarities.get(p1, {}).get(p2, 0)\n",
    "\n",
    "    def predict(self, user_id):\n",
    "        user_ratings = self.user_item_data.data[self.user_item_data.data['userID'] == user_id]\n",
    "\n",
    "        # Initialize a dictionary to store the predicted ratings\n",
    "        predictions = {}\n",
    "\n",
    "        # Iterate over all movies in the dataset\n",
    "        for movie in self.similarities.keys():\n",
    "            # Initialize the sum of similarities and weighted ratings\n",
    "            sim_sum = 0\n",
    "            weighted_ratings_sum = 0\n",
    "\n",
    "            # Iterate over movies the user has rated\n",
    "            for rated_movie, row in user_ratings.iterrows():\n",
    "                rated_movie_id = row['movieID']\n",
    "                rated_movie_rating = row['rating']\n",
    "\n",
    "                # Check if similarity exists between the rated movie and the current movie\n",
    "                if rated_movie_id in self.similarities[movie]:\n",
    "                    similarity = self.similarities[movie][rated_movie_id]\n",
    "                    sim_sum += similarity\n",
    "                    weighted_ratings_sum += similarity * rated_movie_rating\n",
    "\n",
    "            # Calculate the predicted rating\n",
    "            if sim_sum > 0:\n",
    "                predicted_rating = weighted_ratings_sum / sim_sum\n",
    "                predictions[movie] = predicted_rating\n",
    "            else:\n",
    "                predictions[movie] = 0  # Default prediction when no similar movies are found\n",
    "\n",
    "        return predictions\n",
    "    \n",
    "    def similarItems(self, item, n):\n",
    "        # Check if the item exists in the similarity matrix\n",
    "        if item not in self.similarities:\n",
    "            return []\n",
    "\n",
    "        # Retrieve all items and their similarity scores to the given item\n",
    "        similar_items = self.similarities[item].items()\n",
    "\n",
    "        # Sort the items based on similarity scores in descending order\n",
    "        sorted_items = sorted(similar_items, key=lambda x: x[1], reverse=True)\n",
    "\n",
    "        # Return the top n items\n",
    "        return sorted_items[:n]\n",
    "\n",
    "\n",
    "md = MovieData('podatki/movies.dat')\n",
    "uim = UserItemData('podatki/user_ratedmovies.dat', min_ratings=1000)\n",
    "rp = ItemBasedPredictor()\n",
    "rec = Recommender(rp)\n",
    "rec.fit(uim)\n",
    "\n",
    "# Assuming the predictor has been fitted with user-item data\n",
    "rec_items = rp.similarItems(4993, 10)\n",
    "print('Filmi podobni \"The Lord of the Rings: The Fellowship of the Ring\":')\n",
    "for idmovie, val in rec_items:\n",
    "    print(\"Film: {}, ocena: {}\".format(md.get_title(idmovie), val))"
   ]
  },
  {
   "cell_type": "markdown",
   "id": "da6694e5",
   "metadata": {},
   "source": [
    "### Moja priporočila\n",
    "\n",
    "63200236 - uporabnik"
   ]
  },
  {
   "cell_type": "code",
   "execution_count": null,
   "id": "2704220b",
   "metadata": {},
   "outputs": [],
   "source": []
  }
 ],
 "metadata": {
  "kernelspec": {
   "display_name": "Python 3 (ipykernel)",
   "language": "python",
   "name": "python3"
  },
  "language_info": {
   "codemirror_mode": {
    "name": "ipython",
    "version": 3
   },
   "file_extension": ".py",
   "mimetype": "text/x-python",
   "name": "python",
   "nbconvert_exporter": "python",
   "pygments_lexer": "ipython3",
   "version": "3.12.1"
  }
 },
 "nbformat": 4,
 "nbformat_minor": 5
}
